{
 "cells": [
  {
   "cell_type": "code",
   "execution_count": 56,
   "metadata": {},
   "outputs": [],
   "source": [
    "# use these commands to install necesary packages and restart kernel before running the script\n",
    "\n",
    "# upgrade to latest available sklearn package if needed\n",
    "#%pip install -U scikit-learn \n",
    "# install glob if not already present\n",
    "#%pip install glob2"
   ]
  },
  {
   "cell_type": "markdown",
   "metadata": {},
   "source": [
    "First we install and import packages needed for the code."
   ]
  },
  {
   "cell_type": "markdown",
   "metadata": {},
   "source": [
    "## 1. Data Cleaning and Preparation"
   ]
  },
  {
   "cell_type": "code",
   "execution_count": 57,
   "metadata": {},
   "outputs": [],
   "source": [
    "import warnings \n",
    "warnings.filterwarnings('ignore') # to keep the notebook cleaner - can disable to view warnings\n",
    "\n",
    "import pandas as pd \n",
    "import os \n",
    "import glob \n",
    "import matplotlib.pyplot as plt"
   ]
  },
  {
   "cell_type": "markdown",
   "metadata": {},
   "source": [
    "Then we collect all the HDB resale flat transaction data."
   ]
  },
  {
   "cell_type": "code",
   "execution_count": 58,
   "metadata": {},
   "outputs": [],
   "source": [
    "path = \"./Kaggle_HDB/\" # path to folder containing HDB data files \n",
    "file_list = glob.glob(os.path.join(path, \"*.csv\")) # get the file names\n",
    "\n",
    "hdb_data = pd.DataFrame() # initialise\n",
    "for file in file_list: # we read the data files one by one and combine into a single dataframe\n",
    "    tmp = pd.read_csv(file)\n",
    "    hdb_data = pd.concat([hdb_data,tmp],ignore_index=True)\n",
    "    del tmp"
   ]
  },
  {
   "cell_type": "code",
   "execution_count": 59,
   "metadata": {},
   "outputs": [
    {
     "data": {
      "text/plain": [
       "month                   object\n",
       "town                    object\n",
       "flat_type               object\n",
       "block                   object\n",
       "street_name             object\n",
       "storey_range            object\n",
       "floor_area_sqm         float64\n",
       "flat_model              object\n",
       "lease_commence_date      int64\n",
       "resale_price           float64\n",
       "remaining_lease         object\n",
       "dtype: object"
      ]
     },
     "execution_count": 59,
     "metadata": {},
     "output_type": "execute_result"
    }
   ],
   "source": [
    "hdb_data.dtypes # take a quick look at the column names and data types"
   ]
  },
  {
   "cell_type": "code",
   "execution_count": 60,
   "metadata": {},
   "outputs": [
    {
     "data": {
      "text/html": [
       "<div>\n",
       "<style scoped>\n",
       "    .dataframe tbody tr th:only-of-type {\n",
       "        vertical-align: middle;\n",
       "    }\n",
       "\n",
       "    .dataframe tbody tr th {\n",
       "        vertical-align: top;\n",
       "    }\n",
       "\n",
       "    .dataframe thead th {\n",
       "        text-align: right;\n",
       "    }\n",
       "</style>\n",
       "<table border=\"1\" class=\"dataframe\">\n",
       "  <thead>\n",
       "    <tr style=\"text-align: right;\">\n",
       "      <th></th>\n",
       "      <th>month</th>\n",
       "      <th>town</th>\n",
       "      <th>flat_type</th>\n",
       "      <th>block</th>\n",
       "      <th>street_name</th>\n",
       "      <th>storey_range</th>\n",
       "      <th>floor_area_sqm</th>\n",
       "      <th>flat_model</th>\n",
       "      <th>lease_commence_date</th>\n",
       "      <th>resale_price</th>\n",
       "      <th>remaining_lease</th>\n",
       "    </tr>\n",
       "  </thead>\n",
       "  <tbody>\n",
       "    <tr>\n",
       "      <th>0</th>\n",
       "      <td>1990-01</td>\n",
       "      <td>ANG MO KIO</td>\n",
       "      <td>1 ROOM</td>\n",
       "      <td>309</td>\n",
       "      <td>ANG MO KIO AVE 1</td>\n",
       "      <td>10 TO 12</td>\n",
       "      <td>31.0</td>\n",
       "      <td>IMPROVED</td>\n",
       "      <td>1977</td>\n",
       "      <td>9000.0</td>\n",
       "      <td>NaN</td>\n",
       "    </tr>\n",
       "    <tr>\n",
       "      <th>1</th>\n",
       "      <td>1990-01</td>\n",
       "      <td>ANG MO KIO</td>\n",
       "      <td>1 ROOM</td>\n",
       "      <td>309</td>\n",
       "      <td>ANG MO KIO AVE 1</td>\n",
       "      <td>04 TO 06</td>\n",
       "      <td>31.0</td>\n",
       "      <td>IMPROVED</td>\n",
       "      <td>1977</td>\n",
       "      <td>6000.0</td>\n",
       "      <td>NaN</td>\n",
       "    </tr>\n",
       "    <tr>\n",
       "      <th>2</th>\n",
       "      <td>1990-01</td>\n",
       "      <td>ANG MO KIO</td>\n",
       "      <td>1 ROOM</td>\n",
       "      <td>309</td>\n",
       "      <td>ANG MO KIO AVE 1</td>\n",
       "      <td>10 TO 12</td>\n",
       "      <td>31.0</td>\n",
       "      <td>IMPROVED</td>\n",
       "      <td>1977</td>\n",
       "      <td>8000.0</td>\n",
       "      <td>NaN</td>\n",
       "    </tr>\n",
       "    <tr>\n",
       "      <th>3</th>\n",
       "      <td>1990-01</td>\n",
       "      <td>ANG MO KIO</td>\n",
       "      <td>1 ROOM</td>\n",
       "      <td>309</td>\n",
       "      <td>ANG MO KIO AVE 1</td>\n",
       "      <td>07 TO 09</td>\n",
       "      <td>31.0</td>\n",
       "      <td>IMPROVED</td>\n",
       "      <td>1977</td>\n",
       "      <td>6000.0</td>\n",
       "      <td>NaN</td>\n",
       "    </tr>\n",
       "    <tr>\n",
       "      <th>4</th>\n",
       "      <td>1990-01</td>\n",
       "      <td>ANG MO KIO</td>\n",
       "      <td>3 ROOM</td>\n",
       "      <td>216</td>\n",
       "      <td>ANG MO KIO AVE 1</td>\n",
       "      <td>04 TO 06</td>\n",
       "      <td>73.0</td>\n",
       "      <td>NEW GENERATION</td>\n",
       "      <td>1976</td>\n",
       "      <td>47200.0</td>\n",
       "      <td>NaN</td>\n",
       "    </tr>\n",
       "  </tbody>\n",
       "</table>\n",
       "</div>"
      ],
      "text/plain": [
       "     month        town flat_type block       street_name storey_range  \\\n",
       "0  1990-01  ANG MO KIO    1 ROOM   309  ANG MO KIO AVE 1     10 TO 12   \n",
       "1  1990-01  ANG MO KIO    1 ROOM   309  ANG MO KIO AVE 1     04 TO 06   \n",
       "2  1990-01  ANG MO KIO    1 ROOM   309  ANG MO KIO AVE 1     10 TO 12   \n",
       "3  1990-01  ANG MO KIO    1 ROOM   309  ANG MO KIO AVE 1     07 TO 09   \n",
       "4  1990-01  ANG MO KIO    3 ROOM   216  ANG MO KIO AVE 1     04 TO 06   \n",
       "\n",
       "   floor_area_sqm      flat_model  lease_commence_date  resale_price  \\\n",
       "0            31.0        IMPROVED                 1977        9000.0   \n",
       "1            31.0        IMPROVED                 1977        6000.0   \n",
       "2            31.0        IMPROVED                 1977        8000.0   \n",
       "3            31.0        IMPROVED                 1977        6000.0   \n",
       "4            73.0  NEW GENERATION                 1976       47200.0   \n",
       "\n",
       "  remaining_lease  \n",
       "0             NaN  \n",
       "1             NaN  \n",
       "2             NaN  \n",
       "3             NaN  \n",
       "4             NaN  "
      ]
     },
     "execution_count": 60,
     "metadata": {},
     "output_type": "execute_result"
    }
   ],
   "source": [
    "hdb_data.head() # take a quick look at the actual data"
   ]
  },
  {
   "cell_type": "markdown",
   "metadata": {},
   "source": [
    "Some columns don't seem to be of the expected data type. \n",
    "`month` is actually stored as a string with year and month included. \n",
    "`remaining lease` should also be numerical but also stored as a string and is missing for some years.\n",
    "We clean these two columns up before doing further exporation and analysis. "
   ]
  },
  {
   "cell_type": "code",
   "execution_count": 61,
   "metadata": {},
   "outputs": [],
   "source": [
    "# make a copy to clean up the data\n",
    "hdb_data_clean = hdb_data.copy()"
   ]
  },
  {
   "cell_type": "code",
   "execution_count": 62,
   "metadata": {},
   "outputs": [],
   "source": [
    "# we store the transaction date data as the year and assume prices do not fluctuate (much) by month\n",
    "hdb_data_clean['year'] = hdb_data['month'].apply(lambda x: int(x[:4])) # extract the year from the original 'month' column"
   ]
  },
  {
   "cell_type": "code",
   "execution_count": 63,
   "metadata": {},
   "outputs": [],
   "source": [
    "# to be consistent we re-calculate the remaining lease based on the transaction year and lease commence date (which actually just has the year)\n",
    "hdb_data_clean['remaining_lease'] = hdb_data_clean['year'] - hdb_data['lease_commence_date']"
   ]
  },
  {
   "cell_type": "code",
   "execution_count": 64,
   "metadata": {},
   "outputs": [
    {
     "data": {
      "text/plain": [
       "month                   object\n",
       "town                    object\n",
       "flat_type               object\n",
       "block                   object\n",
       "street_name             object\n",
       "storey_range            object\n",
       "floor_area_sqm         float64\n",
       "flat_model              object\n",
       "lease_commence_date      int64\n",
       "resale_price           float64\n",
       "remaining_lease          int64\n",
       "year                     int64\n",
       "dtype: object"
      ]
     },
     "execution_count": 64,
     "metadata": {},
     "output_type": "execute_result"
    }
   ],
   "source": [
    "hdb_data_clean.dtypes # take a quick look at the column names and data types again after cleaning"
   ]
  },
  {
   "cell_type": "code",
   "execution_count": 65,
   "metadata": {},
   "outputs": [
    {
     "data": {
      "text/plain": [
       "month                  0\n",
       "town                   0\n",
       "flat_type              0\n",
       "block                  0\n",
       "street_name            0\n",
       "storey_range           0\n",
       "floor_area_sqm         0\n",
       "flat_model             0\n",
       "lease_commence_date    0\n",
       "resale_price           0\n",
       "remaining_lease        0\n",
       "year                   0\n",
       "dtype: int64"
      ]
     },
     "execution_count": 65,
     "metadata": {},
     "output_type": "execute_result"
    }
   ],
   "source": [
    "hdb_data_clean.isnull().sum() # quick check for missing values"
   ]
  },
  {
   "cell_type": "markdown",
   "metadata": {},
   "source": [
    "The cleaned dataset has all columns with the expected data type and no missing values, so we can proceed. \n",
    "We now explore the variables to determine which are suitable for use in our prediction and if any further issues still remain to be addressed.\n",
    "\n",
    "First we look at the number of classes in each of the categorical variables in the dataset"
   ]
  },
  {
   "cell_type": "code",
   "execution_count": 66,
   "metadata": {},
   "outputs": [
    {
     "name": "stdout",
     "output_type": "stream",
     "text": [
      "Number of classes for town: 27\n",
      "Number of classes for flat_type: 8\n",
      "Number of classes for street_name: 568\n",
      "Number of classes for storey_range: 25\n",
      "Number of classes for flat_model: 20\n"
     ]
    }
   ],
   "source": [
    "categorical_variables = ['town','flat_type','street_name','storey_range','flat_model']\n",
    "hdb_data_clean['flat_model'] = hdb_data_clean['flat_model'].str.upper() # some of these are the exact same just with lower/uppercase, so we standardise to all uppercase\n",
    "\n",
    "for var in categorical_variables:\n",
    "    n_classes = len(hdb_data_clean[var].unique())\n",
    "    print('Number of classes for '+ var +': '+ str(n_classes))"
   ]
  },
  {
   "cell_type": "markdown",
   "metadata": {},
   "source": [
    "`street_name` (and `block`) are probably too specific and thus not that helpful for our predictions, as there are already 568 classes for `street name` alone. \n",
    "`flat_model` is a more detailed breakdown of `flat_type`, so for this example, we use the broader category `flat_type`.\n",
    "\n",
    "We take a look at the distribution across classes for the other categorical variables."
   ]
  },
  {
   "cell_type": "code",
   "execution_count": 67,
   "metadata": {},
   "outputs": [
    {
     "name": "stdout",
     "output_type": "stream",
     "text": [
      "Frequency counts for town:\n",
      "\n",
      "ANG MO KIO         48237\n",
      "BEDOK              61400\n",
      "BISHAN             19522\n",
      "BUKIT BATOK        40444\n",
      "BUKIT MERAH        30518\n",
      "BUKIT PANJANG      24241\n",
      "BUKIT TIMAH         2283\n",
      "CENTRAL AREA        6345\n",
      "CHOA CHU KANG      33388\n",
      "CLEMENTI           25755\n",
      "GEYLANG            25679\n",
      "HOUGANG            45476\n",
      "JURONG EAST        22864\n",
      "JURONG WEST        60708\n",
      "KALLANG/WHAMPOA    24030\n",
      "LIM CHU KANG          64\n",
      "MARINE PARADE       7388\n",
      "PASIR RIS          30267\n",
      "PUNGGOL            12336\n",
      "QUEENSTOWN         25922\n",
      "SEMBAWANG          11016\n",
      "SENGKANG           23903\n",
      "SERANGOON          21125\n",
      "TAMPINES           73101\n",
      "TOA PAYOH          28525\n",
      "WOODLANDS          58735\n",
      "YISHUN             63309\n",
      "Name: town, dtype: int64\n",
      "Frequency counts for flat_type:\n",
      "\n",
      "1 ROOM                1273\n",
      "2 ROOM                9863\n",
      "3 ROOM              272580\n",
      "4 ROOM              309314\n",
      "5 ROOM              170408\n",
      "EXECUTIVE            62641\n",
      "MULTI GENERATION       279\n",
      "MULTI-GENERATION       223\n",
      "Name: flat_type, dtype: int64\n",
      "Frequency counts for storey_range:\n",
      "\n",
      "01 TO 03    168985\n",
      "01 TO 05      2700\n",
      "04 TO 06    209705\n",
      "06 TO 10      2474\n",
      "07 TO 09    189109\n",
      "10 TO 12    160250\n",
      "11 TO 15      1259\n",
      "13 TO 15     52212\n",
      "16 TO 18     19449\n",
      "16 TO 20       265\n",
      "19 TO 21      9422\n",
      "21 TO 25        92\n",
      "22 TO 24      6053\n",
      "25 TO 27      2544\n",
      "26 TO 30        39\n",
      "28 TO 30      1049\n",
      "31 TO 33       265\n",
      "31 TO 35         2\n",
      "34 TO 36       267\n",
      "36 TO 40         7\n",
      "37 TO 39       255\n",
      "40 TO 42       132\n",
      "43 TO 45        16\n",
      "46 TO 48        21\n",
      "49 TO 51         9\n",
      "Name: storey_range, dtype: int64\n"
     ]
    }
   ],
   "source": [
    "categorical_variables = ['town','flat_type','storey_range'] # keep only variables of interest in the list\n",
    "for var in categorical_variables:\n",
    "    print('Frequency counts for '+ var +':\\n')\n",
    "    print(hdb_data_clean[var].sort_values().value_counts(sort=False)) # look at frequency counts sorted by class names (instead of frequency)"
   ]
  },
  {
   "cell_type": "code",
   "execution_count": 68,
   "metadata": {},
   "outputs": [
    {
     "data": {
      "text/html": [
       "<div>\n",
       "<style scoped>\n",
       "    .dataframe tbody tr th:only-of-type {\n",
       "        vertical-align: middle;\n",
       "    }\n",
       "\n",
       "    .dataframe tbody tr th {\n",
       "        vertical-align: top;\n",
       "    }\n",
       "\n",
       "    .dataframe thead th {\n",
       "        text-align: right;\n",
       "    }\n",
       "</style>\n",
       "<table border=\"1\" class=\"dataframe\">\n",
       "  <thead>\n",
       "    <tr style=\"text-align: right;\">\n",
       "      <th></th>\n",
       "      <th>month</th>\n",
       "      <th>town</th>\n",
       "      <th>flat_type</th>\n",
       "      <th>block</th>\n",
       "      <th>street_name</th>\n",
       "      <th>storey_range</th>\n",
       "      <th>floor_area_sqm</th>\n",
       "      <th>flat_model</th>\n",
       "      <th>lease_commence_date</th>\n",
       "      <th>resale_price</th>\n",
       "      <th>remaining_lease</th>\n",
       "      <th>year</th>\n",
       "    </tr>\n",
       "  </thead>\n",
       "  <tbody>\n",
       "    <tr>\n",
       "      <th>3217</th>\n",
       "      <td>1990-03</td>\n",
       "      <td>LIM CHU KANG</td>\n",
       "      <td>3 ROOM</td>\n",
       "      <td>3</td>\n",
       "      <td>LIM CHU KANG RD</td>\n",
       "      <td>01 TO 03</td>\n",
       "      <td>59.0</td>\n",
       "      <td>IMPROVED</td>\n",
       "      <td>1980</td>\n",
       "      <td>20400.0</td>\n",
       "      <td>10</td>\n",
       "      <td>1990</td>\n",
       "    </tr>\n",
       "    <tr>\n",
       "      <th>5988</th>\n",
       "      <td>1990-06</td>\n",
       "      <td>LIM CHU KANG</td>\n",
       "      <td>4 ROOM</td>\n",
       "      <td>3</td>\n",
       "      <td>LIM CHU KANG RD</td>\n",
       "      <td>04 TO 06</td>\n",
       "      <td>83.0</td>\n",
       "      <td>IMPROVED</td>\n",
       "      <td>1980</td>\n",
       "      <td>32500.0</td>\n",
       "      <td>10</td>\n",
       "      <td>1990</td>\n",
       "    </tr>\n",
       "    <tr>\n",
       "      <th>10136</th>\n",
       "      <td>1990-10</td>\n",
       "      <td>LIM CHU KANG</td>\n",
       "      <td>4 ROOM</td>\n",
       "      <td>4</td>\n",
       "      <td>LIM CHU KANG RD</td>\n",
       "      <td>01 TO 03</td>\n",
       "      <td>83.0</td>\n",
       "      <td>IMPROVED</td>\n",
       "      <td>1980</td>\n",
       "      <td>45700.0</td>\n",
       "      <td>10</td>\n",
       "      <td>1990</td>\n",
       "    </tr>\n",
       "    <tr>\n",
       "      <th>14335</th>\n",
       "      <td>1991-02</td>\n",
       "      <td>LIM CHU KANG</td>\n",
       "      <td>3 ROOM</td>\n",
       "      <td>3</td>\n",
       "      <td>LIM CHU KANG RD</td>\n",
       "      <td>04 TO 06</td>\n",
       "      <td>70.0</td>\n",
       "      <td>IMPROVED</td>\n",
       "      <td>1980</td>\n",
       "      <td>33200.0</td>\n",
       "      <td>11</td>\n",
       "      <td>1991</td>\n",
       "    </tr>\n",
       "    <tr>\n",
       "      <th>15153</th>\n",
       "      <td>1991-03</td>\n",
       "      <td>LIM CHU KANG</td>\n",
       "      <td>4 ROOM</td>\n",
       "      <td>4</td>\n",
       "      <td>LIM CHU KANG RD</td>\n",
       "      <td>01 TO 03</td>\n",
       "      <td>83.0</td>\n",
       "      <td>IMPROVED</td>\n",
       "      <td>1980</td>\n",
       "      <td>45500.0</td>\n",
       "      <td>11</td>\n",
       "      <td>1991</td>\n",
       "    </tr>\n",
       "    <tr>\n",
       "      <th>...</th>\n",
       "      <td>...</td>\n",
       "      <td>...</td>\n",
       "      <td>...</td>\n",
       "      <td>...</td>\n",
       "      <td>...</td>\n",
       "      <td>...</td>\n",
       "      <td>...</td>\n",
       "      <td>...</td>\n",
       "      <td>...</td>\n",
       "      <td>...</td>\n",
       "      <td>...</td>\n",
       "      <td>...</td>\n",
       "    </tr>\n",
       "    <tr>\n",
       "      <th>211688</th>\n",
       "      <td>1998-09</td>\n",
       "      <td>LIM CHU KANG</td>\n",
       "      <td>3 ROOM</td>\n",
       "      <td>4</td>\n",
       "      <td>LIM CHU KANG RD</td>\n",
       "      <td>01 TO 03</td>\n",
       "      <td>59.0</td>\n",
       "      <td>IMPROVED</td>\n",
       "      <td>1980</td>\n",
       "      <td>66000.0</td>\n",
       "      <td>18</td>\n",
       "      <td>1998</td>\n",
       "    </tr>\n",
       "    <tr>\n",
       "      <th>216988</th>\n",
       "      <td>1998-10</td>\n",
       "      <td>LIM CHU KANG</td>\n",
       "      <td>3 ROOM</td>\n",
       "      <td>3</td>\n",
       "      <td>LIM CHU KANG RD</td>\n",
       "      <td>01 TO 03</td>\n",
       "      <td>70.0</td>\n",
       "      <td>IMPROVED</td>\n",
       "      <td>1980</td>\n",
       "      <td>88000.0</td>\n",
       "      <td>18</td>\n",
       "      <td>1998</td>\n",
       "    </tr>\n",
       "    <tr>\n",
       "      <th>222341</th>\n",
       "      <td>1998-11</td>\n",
       "      <td>LIM CHU KANG</td>\n",
       "      <td>3 ROOM</td>\n",
       "      <td>3</td>\n",
       "      <td>LIM CHU KANG RD</td>\n",
       "      <td>04 TO 06</td>\n",
       "      <td>59.0</td>\n",
       "      <td>IMPROVED</td>\n",
       "      <td>1980</td>\n",
       "      <td>65000.0</td>\n",
       "      <td>18</td>\n",
       "      <td>1998</td>\n",
       "    </tr>\n",
       "    <tr>\n",
       "      <th>222342</th>\n",
       "      <td>1998-11</td>\n",
       "      <td>LIM CHU KANG</td>\n",
       "      <td>4 ROOM</td>\n",
       "      <td>4</td>\n",
       "      <td>LIM CHU KANG RD</td>\n",
       "      <td>01 TO 03</td>\n",
       "      <td>83.0</td>\n",
       "      <td>IMPROVED</td>\n",
       "      <td>1980</td>\n",
       "      <td>100000.0</td>\n",
       "      <td>18</td>\n",
       "      <td>1998</td>\n",
       "    </tr>\n",
       "    <tr>\n",
       "      <th>227392</th>\n",
       "      <td>1998-12</td>\n",
       "      <td>LIM CHU KANG</td>\n",
       "      <td>3 ROOM</td>\n",
       "      <td>4</td>\n",
       "      <td>LIM CHU KANG RD</td>\n",
       "      <td>01 TO 03</td>\n",
       "      <td>59.0</td>\n",
       "      <td>IMPROVED</td>\n",
       "      <td>1980</td>\n",
       "      <td>67000.0</td>\n",
       "      <td>18</td>\n",
       "      <td>1998</td>\n",
       "    </tr>\n",
       "  </tbody>\n",
       "</table>\n",
       "<p>64 rows × 12 columns</p>\n",
       "</div>"
      ],
      "text/plain": [
       "          month          town flat_type block      street_name storey_range  \\\n",
       "3217    1990-03  LIM CHU KANG    3 ROOM     3  LIM CHU KANG RD     01 TO 03   \n",
       "5988    1990-06  LIM CHU KANG    4 ROOM     3  LIM CHU KANG RD     04 TO 06   \n",
       "10136   1990-10  LIM CHU KANG    4 ROOM     4  LIM CHU KANG RD     01 TO 03   \n",
       "14335   1991-02  LIM CHU KANG    3 ROOM     3  LIM CHU KANG RD     04 TO 06   \n",
       "15153   1991-03  LIM CHU KANG    4 ROOM     4  LIM CHU KANG RD     01 TO 03   \n",
       "...         ...           ...       ...   ...              ...          ...   \n",
       "211688  1998-09  LIM CHU KANG    3 ROOM     4  LIM CHU KANG RD     01 TO 03   \n",
       "216988  1998-10  LIM CHU KANG    3 ROOM     3  LIM CHU KANG RD     01 TO 03   \n",
       "222341  1998-11  LIM CHU KANG    3 ROOM     3  LIM CHU KANG RD     04 TO 06   \n",
       "222342  1998-11  LIM CHU KANG    4 ROOM     4  LIM CHU KANG RD     01 TO 03   \n",
       "227392  1998-12  LIM CHU KANG    3 ROOM     4  LIM CHU KANG RD     01 TO 03   \n",
       "\n",
       "        floor_area_sqm flat_model  lease_commence_date  resale_price  \\\n",
       "3217              59.0   IMPROVED                 1980       20400.0   \n",
       "5988              83.0   IMPROVED                 1980       32500.0   \n",
       "10136             83.0   IMPROVED                 1980       45700.0   \n",
       "14335             70.0   IMPROVED                 1980       33200.0   \n",
       "15153             83.0   IMPROVED                 1980       45500.0   \n",
       "...                ...        ...                  ...           ...   \n",
       "211688            59.0   IMPROVED                 1980       66000.0   \n",
       "216988            70.0   IMPROVED                 1980       88000.0   \n",
       "222341            59.0   IMPROVED                 1980       65000.0   \n",
       "222342            83.0   IMPROVED                 1980      100000.0   \n",
       "227392            59.0   IMPROVED                 1980       67000.0   \n",
       "\n",
       "        remaining_lease  year  \n",
       "3217                 10  1990  \n",
       "5988                 10  1990  \n",
       "10136                10  1990  \n",
       "14335                11  1991  \n",
       "15153                11  1991  \n",
       "...                 ...   ...  \n",
       "211688               18  1998  \n",
       "216988               18  1998  \n",
       "222341               18  1998  \n",
       "222342               18  1998  \n",
       "227392               18  1998  \n",
       "\n",
       "[64 rows x 12 columns]"
      ]
     },
     "execution_count": 68,
     "metadata": {},
     "output_type": "execute_result"
    }
   ],
   "source": [
    "# extremely low counts for flats in LIM CHU KANG in the transaction data, so we take a look\n",
    "hdb_data_clean[hdb_data_clean['town']=='LIM CHU KANG']"
   ]
  },
  {
   "cell_type": "code",
   "execution_count": 69,
   "metadata": {},
   "outputs": [
    {
     "name": "stdout",
     "output_type": "stream",
     "text": [
      "Max lease ending year for flats in Lim Chu Kang based on resale data is: 2016\n"
     ]
    }
   ],
   "source": [
    "print('Max lease ending year for flats in Lim Chu Kang based on resale data is: ' +\n",
    "      str(max(hdb_data_clean[hdb_data_clean['town']=='LIM CHU KANG'].apply(lambda x: x['remaining_lease']+x['year'],axis=1)))) # sum up remaining lease and transaction year to find lease end year, then get the maximum"
   ]
  },
  {
   "cell_type": "markdown",
   "metadata": {},
   "source": [
    "We assume there are no more flats in this area that will be available for resale (as the lease would have been up in 2016). Thus, the transaction data from this town is likely to not be useful / relevant to our prediction analyses (which is assumed to be for current and future resale prices) and we remove it from our clean dataset."
   ]
  },
  {
   "cell_type": "code",
   "execution_count": 70,
   "metadata": {},
   "outputs": [],
   "source": [
    "hdb_data_clean = hdb_data_clean[hdb_data_clean['town']!='LIM CHU KANG'].copy() # keep only those that are not in LIM CHU KANG"
   ]
  },
  {
   "cell_type": "markdown",
   "metadata": {},
   "source": [
    "For the other categorical variables, we perform some grouping on them due to duplicates / overlaps in class labels."
   ]
  },
  {
   "cell_type": "code",
   "execution_count": 71,
   "metadata": {},
   "outputs": [
    {
     "data": {
      "text/plain": [
       "LOW     381326\n",
       "HIGH    253608\n",
       "MID     191583\n",
       "Name: storey_range_grp, dtype: int64"
      ]
     },
     "execution_count": 71,
     "metadata": {},
     "output_type": "execute_result"
    }
   ],
   "source": [
    "# two class names but referring to the same class in flat type, so we replace one to group them together\n",
    "hdb_data_clean['flat_type'] = hdb_data_clean['flat_type'].replace('MULTI GENERATION','MULTI-GENERATION')\n",
    "\n",
    "# make some arbitrary decisions to group the classes in storey_range due to overlaps and lack of more specific data\n",
    "# we try to get roughly equal data points in each of the low, mid and high floor groups \n",
    "# and we assume that the price does not differ (much) based on the exact floor within each of these groups\n",
    "hdb_data_clean['storey_range_grp'] = hdb_data_clean['storey_range'].copy()\n",
    "\n",
    "storey_grouping = {'01 TO 03':'LOW', '01 TO 05':'LOW', '04 TO 06':'LOW', # low floor usually refers to first 5 floors\n",
    "                   '06 TO 10':'MID', '07 TO 09':'MID'} # mid floor usually refers to up to 10th floor\n",
    "for key,value in storey_grouping.items():\n",
    "    hdb_data_clean['storey_range_grp'] = hdb_data_clean['storey_range_grp'].replace(key,value)\n",
    "\n",
    "hdb_data_clean.loc[~hdb_data_clean['storey_range_grp'].isin(storey_grouping.values()),'storey_range_grp'] = 'HIGH' # above 10th storey is usually considered high floor\n",
    "\n",
    "hdb_data_clean['storey_range_grp'].value_counts() # see if there is a roughly equal distribution across the groups"
   ]
  },
  {
   "cell_type": "markdown",
   "metadata": {},
   "source": [
    "Now we take a look at the numerical variables to check for cross-correlation."
   ]
  },
  {
   "cell_type": "code",
   "execution_count": 72,
   "metadata": {},
   "outputs": [
    {
     "data": {
      "text/html": [
       "<div>\n",
       "<style scoped>\n",
       "    .dataframe tbody tr th:only-of-type {\n",
       "        vertical-align: middle;\n",
       "    }\n",
       "\n",
       "    .dataframe tbody tr th {\n",
       "        vertical-align: top;\n",
       "    }\n",
       "\n",
       "    .dataframe thead th {\n",
       "        text-align: right;\n",
       "    }\n",
       "</style>\n",
       "<table border=\"1\" class=\"dataframe\">\n",
       "  <thead>\n",
       "    <tr style=\"text-align: right;\">\n",
       "      <th></th>\n",
       "      <th>year</th>\n",
       "      <th>floor_area_sqm</th>\n",
       "      <th>lease_commence_date</th>\n",
       "      <th>remaining_lease</th>\n",
       "    </tr>\n",
       "  </thead>\n",
       "  <tbody>\n",
       "    <tr>\n",
       "      <th>year</th>\n",
       "      <td>1.000000</td>\n",
       "      <td>0.071783</td>\n",
       "      <td>0.373262</td>\n",
       "      <td>0.448331</td>\n",
       "    </tr>\n",
       "    <tr>\n",
       "      <th>floor_area_sqm</th>\n",
       "      <td>0.071783</td>\n",
       "      <td>1.000000</td>\n",
       "      <td>0.465866</td>\n",
       "      <td>-0.390865</td>\n",
       "    </tr>\n",
       "    <tr>\n",
       "      <th>lease_commence_date</th>\n",
       "      <td>0.373262</td>\n",
       "      <td>0.465866</td>\n",
       "      <td>1.000000</td>\n",
       "      <td>-0.661919</td>\n",
       "    </tr>\n",
       "    <tr>\n",
       "      <th>remaining_lease</th>\n",
       "      <td>0.448331</td>\n",
       "      <td>-0.390865</td>\n",
       "      <td>-0.661919</td>\n",
       "      <td>1.000000</td>\n",
       "    </tr>\n",
       "  </tbody>\n",
       "</table>\n",
       "</div>"
      ],
      "text/plain": [
       "                         year  floor_area_sqm  lease_commence_date  \\\n",
       "year                 1.000000        0.071783             0.373262   \n",
       "floor_area_sqm       0.071783        1.000000             0.465866   \n",
       "lease_commence_date  0.373262        0.465866             1.000000   \n",
       "remaining_lease      0.448331       -0.390865            -0.661919   \n",
       "\n",
       "                     remaining_lease  \n",
       "year                        0.448331  \n",
       "floor_area_sqm             -0.390865  \n",
       "lease_commence_date        -0.661919  \n",
       "remaining_lease             1.000000  "
      ]
     },
     "execution_count": 72,
     "metadata": {},
     "output_type": "execute_result"
    }
   ],
   "source": [
    "numerical_variables = ['year','floor_area_sqm','lease_commence_date','remaining_lease'] # leaving resale_price out since this is the variable to be predicted\n",
    "hdb_data_clean[numerical_variables].corr()"
   ]
  },
  {
   "cell_type": "markdown",
   "metadata": {},
   "source": [
    "`remaining lease` and `lease_commencement_date` have the highest correlation. Furthermore, we can actually obtain `lease_commencement_date` from `remaining lease` and (transaction) `year`. Of these 3 variables, (transaction) `year` and `remaining_lease` are assumed to be more relevant for the prediction, so we choose to drop `lease_commencement_date` and keep the other two variables.\n",
    "\n",
    "We keep just the variables we want to use in the cleaned dataset."
   ]
  },
  {
   "cell_type": "code",
   "execution_count": 73,
   "metadata": {},
   "outputs": [],
   "source": [
    "hdb_data_clean = hdb_data_clean[['resale_price', # the variable to be predicted\n",
    "                                 'town','flat_type','storey_range_grp', # categorical predictors\n",
    "                                 'year','floor_area_sqm','remaining_lease']].copy() # numerical predictors"
   ]
  },
  {
   "cell_type": "markdown",
   "metadata": {},
   "source": [
    "## 2. Data visualisation"
   ]
  },
  {
   "cell_type": "markdown",
   "metadata": {},
   "source": [
    "We take a quick look at the distribution of the target variable (resale price), and notice that there is a positive skew (right-skewed) distribution for this variable."
   ]
  },
  {
   "cell_type": "code",
   "execution_count": 74,
   "metadata": {},
   "outputs": [
    {
     "data": {
      "text/plain": [
       "<AxesSubplot:>"
      ]
     },
     "execution_count": 74,
     "metadata": {},
     "output_type": "execute_result"
    },
    {
     "data": {
      "image/png": "[encoded data removed]",
      "text/plain": [
       "<Figure size 640x480 with 1 Axes>"
      ]
     },
     "metadata": {},
     "output_type": "display_data"
    }
   ],
   "source": [
    "hdb_data_clean['resale_price'].hist(bins=100)"
   ]
  },
  {
   "cell_type": "markdown",
   "metadata": {},
   "source": [
    "With these selected variables, (based on contextual knowledge) we expect that resale prices will be higher for:\n",
    "- Larger flats \n",
    "- Newer flats \n",
    "- Flats on higher floors \n",
    "- More central / mature towns\n",
    "- More recent transactions\n",
    "\n",
    "(with all other factors held constant)"
   ]
  },
  {
   "cell_type": "markdown",
   "metadata": {},
   "source": [
    "We take a look at how some of the selected variables relate to the resale flat prices through graphs."
   ]
  },
  {
   "cell_type": "code",
   "execution_count": 75,
   "metadata": {},
   "outputs": [
    {
     "data": {
      "image/png": "[encoded data removed]",
      "text/plain": [
       "<Figure size 640x480 with 1 Axes>"
      ]
     },
     "metadata": {},
     "output_type": "display_data"
    }
   ],
   "source": [
    "plt.scatter(hdb_data_clean['floor_area_sqm'],hdb_data_clean['resale_price'],s=1)\n",
    "plt.xlabel('Resale prices')\n",
    "plt.ylabel('Floor area (sqm)')\n",
    "plt.show()"
   ]
  },
  {
   "cell_type": "code",
   "execution_count": 76,
   "metadata": {},
   "outputs": [
    {
     "data": {
      "image/png": "[encoded data removed]",
      "text/plain": [
       "<Figure size 640x480 with 1 Axes>"
      ]
     },
     "metadata": {},
     "output_type": "display_data"
    }
   ],
   "source": [
    "hdb_data_clean.plot.box(column='resale_price', by='flat_type')\n",
    "plt.xticks(rotation=90)\n",
    "plt.show()"
   ]
  },
  {
   "cell_type": "code",
   "execution_count": 78,
   "metadata": {},
   "outputs": [
    {
     "data": {
      "image/png": "[encoded data removed]",
      "text/plain": [
       "<Figure size 640x480 with 1 Axes>"
      ]
     },
     "metadata": {},
     "output_type": "display_data"
    }
   ],
   "source": [
    "# create a temporary variable to get custom order for the boxplot (which will be by numerical / alphabetical when plotted)\n",
    "hdb_data_clean['storey_range_ordered'] = hdb_data_clean['storey_range_grp'].copy()\n",
    "hdb_data_clean['storey_range_ordered'] = hdb_data_clean['storey_range_ordered'].replace('LOW','1_LOW')\n",
    "hdb_data_clean['storey_range_ordered'] = hdb_data_clean['storey_range_ordered'].replace('MID','2_MID')\n",
    "hdb_data_clean['storey_range_ordered'] = hdb_data_clean['storey_range_ordered'].replace('HIGH','3_HIGH')\n",
    "\n",
    "hdb_data_clean.plot.box(column='resale_price', by='storey_range_ordered')\n",
    "plt.show()\n",
    "\n",
    "hdb_data_clean.drop(columns='storey_range_ordered',inplace=True) # remove the temporary variable"
   ]
  },
  {
   "cell_type": "code",
   "execution_count": 11,
   "metadata": {},
   "outputs": [
    {
     "data": {
      "image/png": "[encoded data removed]",
      "text/plain": [
       "<Figure size 640x480 with 1 Axes>"
      ]
     },
     "metadata": {},
     "output_type": "display_data"
    }
   ],
   "source": [
    "plt.plot(range(hdb_data_clean['year'].min(),hdb_data_clean['year'].max()+1),\n",
    "         hdb_data_clean[['resale_price','year']].groupby('year').median())\n",
    "plt.ylabel('Resale prices')\n",
    "plt.xlabel('Year of transaction')\n",
    "plt.show()"
   ]
  },
  {
   "cell_type": "markdown",
   "metadata": {},
   "source": [
    "The trends are generally what we expect even without controlling for the other variables yet.\n",
    "However, it is still not so clear what is the most important factor in determining resale flat transaction prices, which is what we will explore through modelling."
   ]
  },
  {
   "cell_type": "markdown",
   "metadata": {},
   "source": [
    "## 3. Test set and model selection"
   ]
  },
  {
   "cell_type": "markdown",
   "metadata": {},
   "source": [
    "Since we want to predict resale prices (a numerical variable), and we have the ground truth data (actual resale transaction prices), we will be considering supervised regression models. \n",
    "Given that we have limited computational power and the predictor variables have a generally linear relationship with the target variable, and we want to be able to interpret the results (e.g., importance of the predictors) we will proceed with linear regression models."
   ]
  },
  {
   "cell_type": "markdown",
   "metadata": {},
   "source": [
    "To use linear regresion models, we need to encode the categorical variables before modelling."
   ]
  },
  {
   "cell_type": "code",
   "execution_count": 79,
   "metadata": {},
   "outputs": [],
   "source": [
    "from sklearn.preprocessing import LabelEncoder\n",
    "hdb_data_clean['flat_encoded'] = LabelEncoder().fit_transform(hdb_data_clean['flat_type'])\n",
    "\n",
    "# label encoder will map based on alphabetical order which is not what we want for the storey range, so we specify the levels to use here\n",
    "hdb_data_clean['storey_encoded'] = hdb_data_clean['storey_range_grp'].map({'LOW':0,'MID':1,'HIGH':2}) \n",
    "\n",
    "# for town, since it is not ordinal, we use one hot encoding\n",
    "from sklearn.preprocessing import OneHotEncoder\n",
    "town_encoded = OneHotEncoder(sparse_output=False).set_output(transform=\"pandas\").fit_transform(hdb_data_clean[['town']])\n",
    "hdb_data_clean = pd.concat([hdb_data_clean,town_encoded],axis=1)"
   ]
  },
  {
   "cell_type": "markdown",
   "metadata": {},
   "source": [
    "We also need to split the data into test and train sets. We use a stratified split on`flat_type` which has the most uneven split among the categorical variables."
   ]
  },
  {
   "cell_type": "code",
   "execution_count": 80,
   "metadata": {},
   "outputs": [],
   "source": [
    "#pip install scikit-learn\n",
    "from sklearn.model_selection import train_test_split\n",
    "\n",
    "X_train,X_test,y_train,y_test = train_test_split(hdb_data_clean[['flat_encoded','storey_encoded','year','floor_area_sqm','remaining_lease'] + list(town_encoded.columns)], # predictors\n",
    "                                                 hdb_data_clean['resale_price'],\n",
    "                                                 test_size = 0.3, # 30% kept for testing set, 70% used for training\n",
    "                                                 stratify = hdb_data_clean['flat_type'], # stratify on flat_type\n",
    "                                                 random_state = 42) # set random seed for reproducibility"
   ]
  },
  {
   "cell_type": "markdown",
   "metadata": {},
   "source": [
    "Then we define the function we will use to score all the models. We will look at the R-squared, mean absolute error and mean squared error of the model's prediction vs the actual values."
   ]
  },
  {
   "cell_type": "code",
   "execution_count": 81,
   "metadata": {},
   "outputs": [],
   "source": [
    "from sklearn.metrics import r2_score\n",
    "from sklearn.metrics import mean_absolute_error\n",
    "from sklearn.metrics import mean_squared_error\n",
    "import math\n",
    "\n",
    "def score_model(model_name,y_pred):\n",
    "    print(model_name+' performance: r2 = '+ str(r2_score(y_test,y_pred))+\n",
    "          ', MAE = '+ str(mean_absolute_error(y_test,y_pred))+\n",
    "          ', RMSE = '+ str(math.sqrt(mean_squared_error(y_test,y_pred))))"
   ]
  },
  {
   "cell_type": "markdown",
   "metadata": {},
   "source": [
    "Now we fit and score a baseline model to check the performance."
   ]
  },
  {
   "cell_type": "code",
   "execution_count": null,
   "metadata": {},
   "outputs": [
    {
     "name": "stdout",
     "output_type": "stream",
     "text": [
      "Linear regression performance: r2 = 0.7949733717866585, MAE = 51507.86005203851, RMSE = 67336.53322959587\n"
     ]
    }
   ],
   "source": [
    "# fit linear regression model on training data and predict resale price using test data, then score the result\n",
    "from sklearn.linear_model import LinearRegression\n",
    "\n",
    "ols_reg = LinearRegression().fit(X_train,y_train)\n",
    "y_pred_ols = ols_reg.predict(X_test)\n",
    "score_model('Linear regression',y_pred_ols)"
   ]
  },
  {
   "cell_type": "code",
   "execution_count": 58,
   "metadata": {},
   "outputs": [
    {
     "data": {
      "image/png": "[encoded data removed]",
      "text/plain": [
       "<Figure size 640x480 with 1 Axes>"
      ]
     },
     "metadata": {},
     "output_type": "display_data"
    }
   ],
   "source": [
    "# we also plot the prediction vs the actual values to visualise the performance\n",
    "fig,ax = plt.subplots()\n",
    "ax.scatter(y_pred_ols,y_test,s=1)\n",
    "ax.axline((0,0),slope=1,color='k',linestyle='--') # add y=x line for reference\n",
    "plt.gca().ticklabel_format(axis='y', style='plain') # force y axis not to display as exponential\n",
    "plt.xlabel('Predicted resale prices')\n",
    "plt.ylabel('Actual resale prices')\n",
    "plt.show()"
   ]
  },
  {
   "cell_type": "markdown",
   "metadata": {},
   "source": [
    "## 4. Model tuning\n",
    "\n",
    "We will try using ridge and lasso regression to apply penalty terms to the linear regression model and tune these to see how much we can improve the performance."
   ]
  },
  {
   "cell_type": "code",
   "execution_count": 59,
   "metadata": {},
   "outputs": [
    {
     "data": {
      "text/plain": [
       "{'alpha': 1, 'random_state': 42}"
      ]
     },
     "execution_count": 59,
     "metadata": {},
     "output_type": "execute_result"
    }
   ],
   "source": [
    "from sklearn.model_selection import GridSearchCV\n",
    "from sklearn.linear_model import Ridge\n",
    "\n",
    "# due to limited computational resources we just do the tuning on a small range of values for alpha instead of an extensive model tuning\n",
    "parameters = {'alpha': [0.0001,0.001,0.01,0.1,1,2,3,4,5,6,7,8,9,10],\n",
    "              'random_state': [42], # set random seed for reproducibility\n",
    "              }\n",
    "\n",
    "ridge_tuning_model = GridSearchCV(Ridge(),\n",
    "                                  param_grid = parameters,\n",
    "                                  scoring = 'neg_mean_squared_error', # the baseline model's RMSE is quite high so we use it to tune for better performance\n",
    "                                  cv = 5) # the standard is to do a 5 fold cross validation\n",
    "ridge_tuning_model.fit(X_train,y_train)\n",
    "ridge_tuning_model.best_params_"
   ]
  },
  {
   "cell_type": "code",
   "execution_count": 60,
   "metadata": {},
   "outputs": [
    {
     "name": "stdout",
     "output_type": "stream",
     "text": [
      "Ridge regression (tuned) performance: r2 = 0.7949733719145795, MAE = 51507.54798657384, RMSE = 67336.53320858943\n"
     ]
    }
   ],
   "source": [
    "ridge_reg = Ridge(alpha = 1,\n",
    "                  random_state = 42).fit(X_train,y_train) # use the best parameters from the tuning to fit the model\n",
    "y_pred_ridge = ridge_reg.predict(X_test)\n",
    "score_model('Ridge regression (tuned)',y_pred_ridge)"
   ]
  },
  {
   "cell_type": "code",
   "execution_count": 61,
   "metadata": {},
   "outputs": [
    {
     "data": {
      "text/plain": [
       "{'alpha': 0.01, 'random_state': 42, 'selection': 'cyclic'}"
      ]
     },
     "execution_count": 61,
     "metadata": {},
     "output_type": "execute_result"
    }
   ],
   "source": [
    "from sklearn.linear_model import Lasso\n",
    "\n",
    "# due to limited computational resources we just do the tuning on a small range of values for alpha instead of an extensive model tuning\n",
    "parameters = {'alpha': [0.0001,0.001,0.01,0.1,1,2,3,4,5,6,7,8,9,10],\n",
    "              'selection': ['cyclic','random'],# increase this to prevent cases where model cannot converge\n",
    "              'random_state': [42], # set random seed for reproducibility\n",
    "              }\n",
    "\n",
    "lasso_tuning_model = GridSearchCV(Lasso(),\n",
    "                                  param_grid = parameters,\n",
    "                                  scoring = 'neg_mean_squared_error', # the baseline model's RMSE is quite high so we use it to tune for better performance\n",
    "                                  cv = 5) # the standard is to do a 5 fold cross validation\n",
    "lasso_tuning_model.fit(X_train,y_train)\n",
    "lasso_tuning_model.best_params_"
   ]
  },
  {
   "cell_type": "code",
   "execution_count": 62,
   "metadata": {},
   "outputs": [
    {
     "name": "stdout",
     "output_type": "stream",
     "text": [
      "Lasso regression (tuned) performance: r2 = 0.7949733729458133, MAE = 51507.830655881866, RMSE = 67336.53303924628\n"
     ]
    }
   ],
   "source": [
    "lasso_reg = Lasso(alpha = 0.01, \n",
    "                  selection = 'cyclic',\n",
    "                  random_state = 42).fit(X_train,y_train) # use the best parameters from the tuning to fit the model\n",
    "y_pred_lasso = lasso_reg.predict(X_test)\n",
    "score_model('Lasso regression (tuned)',y_pred_lasso)"
   ]
  },
  {
   "cell_type": "markdown",
   "metadata": {},
   "source": [
    "Unfortunately there is only negligible improvements with ridge and lasso regression models. We try again with linear, ridge and lasso regression using with polynomial regression (up to degree 2) - we allow the numerical predictors to appear as squared versions to account for non-linear relationships with the target variable."
   ]
  },
  {
   "cell_type": "code",
   "execution_count": 64,
   "metadata": {},
   "outputs": [],
   "source": [
    "# create the squared predictors for train and test set\n",
    "X_train2 = X_train.copy()\n",
    "X_train2['year^2'] = X_train['year']**2\n",
    "X_train2['floor_area_sqm^2'] = X_train['floor_area_sqm']**2\n",
    "X_train2['remaining_lease^2'] = X_train['remaining_lease']**2\n",
    "\n",
    "X_test2 = X_test.copy()\n",
    "X_test2['year^2'] = X_test['year']**2\n",
    "X_test2['floor_area_sqm^2'] = X_test['floor_area_sqm']**2\n",
    "X_test2['remaining_lease^2'] = X_test['remaining_lease']**2"
   ]
  },
  {
   "cell_type": "code",
   "execution_count": 65,
   "metadata": {},
   "outputs": [
    {
     "name": "stdout",
     "output_type": "stream",
     "text": [
      "Polynomial regression (degree 2) performance: r2 = 0.7956333069965003, MAE = 51412.265475415275, RMSE = 67228.07520623274\n"
     ]
    }
   ],
   "source": [
    "# fit polynomial regression and check performance\n",
    "ols_reg2 = LinearRegression().fit(X_train2,y_train)\n",
    "y_pred_ols2 = ols_reg2.predict(X_test2)\n",
    "score_model('Polynomial regression (degree 2)',y_pred_ols2)"
   ]
  },
  {
   "cell_type": "code",
   "execution_count": 66,
   "metadata": {},
   "outputs": [
    {
     "data": {
      "text/plain": [
       "{'alpha': 0.1, 'random_state': 42}"
      ]
     },
     "execution_count": 66,
     "metadata": {},
     "output_type": "execute_result"
    }
   ],
   "source": [
    "# tune ridge regression model with the training data including squared predictors\n",
    "parameters = {'alpha': [0.0001,0.001,0.01,0.1,1,2,3,4,5,6,7,8,9,10],\n",
    "              'random_state': [42], # set random seed for reproducibility\n",
    "              }\n",
    "\n",
    "ridge_tuning_model2 = GridSearchCV(Ridge(),\n",
    "                                  param_grid = parameters,\n",
    "                                  scoring = 'neg_mean_squared_error', # the baseline model's RMSE is quite high so we use it to tune for better performance\n",
    "                                  cv = 5) # the standard is to do a 5 fold cross validation\n",
    "ridge_tuning_model2.fit(X_train2,y_train)\n",
    "ridge_tuning_model2.best_params_"
   ]
  },
  {
   "cell_type": "code",
   "execution_count": 67,
   "metadata": {},
   "outputs": [
    {
     "name": "stdout",
     "output_type": "stream",
     "text": [
      "Polynomial ridge regression (tuned) performance: r2 = 0.7956333224552274, MAE = 51412.2348014216, RMSE = 67228.07266359607\n"
     ]
    }
   ],
   "source": [
    "# fit polynomial ridge regression model  and check performance\n",
    "ridge_reg2 = Ridge(alpha = 0.1,\n",
    "                  random_state = 42).fit(X_train2,y_train) # use the best parameters from the tuning to fit the model\n",
    "y_pred_ridge2 = ridge_reg2.predict(X_test2)\n",
    "score_model('Polynomial ridge regression (tuned)',y_pred_ridge2)"
   ]
  },
  {
   "cell_type": "code",
   "execution_count": 68,
   "metadata": {},
   "outputs": [
    {
     "data": {
      "text/plain": [
       "{'alpha': 0.1, 'random_state': 42, 'selection': 'random'}"
      ]
     },
     "execution_count": 68,
     "metadata": {},
     "output_type": "execute_result"
    }
   ],
   "source": [
    "# tune ridge regression model with the training data including squared predictors\n",
    "parameters = {'alpha': [0.0001,0.001,0.01,0.1,1,2,3,4,5,6,7,8,9,10],\n",
    "              'selection': ['cyclic','random'],\n",
    "              'random_state': [42], # set random seed for reproducibility\n",
    "              }\n",
    "\n",
    "lasso_tuning_model2 = GridSearchCV(Lasso(),\n",
    "                                  param_grid = parameters,\n",
    "                                  scoring = 'neg_mean_squared_error', # the baseline model's RMSE is quite high so we use it to tune for better performance\n",
    "                                  cv = 5) # the standard is to do a 5 fold cross validation\n",
    "lasso_tuning_model2.fit(X_train2,y_train)\n",
    "lasso_tuning_model2.best_params_"
   ]
  },
  {
   "cell_type": "code",
   "execution_count": 69,
   "metadata": {},
   "outputs": [
    {
     "name": "stdout",
     "output_type": "stream",
     "text": [
      "Polynomial lasso regression (tuned) performance: r2 = 0.795449812243417, MAE = 51436.1699003619, RMSE = 67258.24947555731\n"
     ]
    }
   ],
   "source": [
    "# tune ridge regression model with the training data including squared predictors\n",
    "lasso_reg2 = Lasso(alpha = 0.1, \n",
    "                  selection = 'random',\n",
    "                  random_state = 42).fit(X_train2,y_train) # use the best parameters from the tuning to fit the model\n",
    "y_pred_lasso2 = lasso_reg2.predict(X_test2)\n",
    "score_model('Polynomial lasso regression (tuned)',y_pred_lasso2)"
   ]
  },
  {
   "cell_type": "markdown",
   "metadata": {},
   "source": [
    "Overall, the additional penalty terms introduced via ridge and lasso regression, as well as the polynomial features used in polynomial regression, do not add much to the variance explained or reduce prediction error by much. \n",
    "\n",
    "Hence, we use the baseline linear model whichis the easiest to interpret for our prediction analysis."
   ]
  },
  {
   "cell_type": "markdown",
   "metadata": {},
   "source": [
    "## 5. Model evaluation and interpretation"
   ]
  },
  {
   "cell_type": "code",
   "execution_count": 28,
   "metadata": {},
   "outputs": [
    {
     "name": "stdout",
     "output_type": "stream",
     "text": [
      "Linear regression performance: r2 = 0.7949733717866585, MAE = 51507.86005203851, RMSE = 67336.53322959587\n"
     ]
    }
   ],
   "source": [
    "# get the score of the linear regression model again\n",
    "score_model('Linear regression',y_pred_ols)"
   ]
  },
  {
   "cell_type": "markdown",
   "metadata": {},
   "source": [
    "For the linear regression model: \n",
    "\n",
    "With an r2 (coefficient of determination) of 0.79, the baseline model already explains 79% of the resale price variance. \n",
    "\n",
    "The MAE (mean absolute error) of ~$52,000 indicates that the model's predicted resale price differs from the actual resale price by $52,000 on average. This is ~19% of the median resale price in the dataset.\n",
    "\n",
    "Similarly, the RMSE (root mean squared error) of ~$67,000 indicates that the error in predicted resale price is $67,000 on average when computed using the root of the squared errors."
   ]
  },
  {
   "cell_type": "code",
   "execution_count": null,
   "metadata": {},
   "outputs": [],
   "source": [
    "# place the coefficients from the linear regression into a dataframe\n",
    "predictor_weights = pd.DataFrame(ols_reg.coef_,X_train.columns,columns=['Coefficients']).sort_values('Coefficients',ascending=False).reset_index().rename(columns={'index':'Predictors'})\n",
    "\n",
    "# tidy up and save the list of towns in the datafrme of coefficients\n",
    "town_list = list(predictor_weights['Predictors'][predictor_weights['Predictors'].str.startswith('town')].values)\n",
    "town_list = [town.replace('town_','') for town in town_list]\n",
    "predictor_weights['Predictors'] = predictor_weights['Predictors'].str.replace('town_','')"
   ]
  },
  {
   "cell_type": "code",
   "execution_count": 27,
   "metadata": {},
   "outputs": [
    {
     "data": {
      "text/html": [
       "<div>\n",
       "<style scoped>\n",
       "    .dataframe tbody tr th:only-of-type {\n",
       "        vertical-align: middle;\n",
       "    }\n",
       "\n",
       "    .dataframe tbody tr th {\n",
       "        vertical-align: top;\n",
       "    }\n",
       "\n",
       "    .dataframe thead th {\n",
       "        text-align: right;\n",
       "    }\n",
       "</style>\n",
       "<table border=\"1\" class=\"dataframe\">\n",
       "  <thead>\n",
       "    <tr style=\"text-align: right;\">\n",
       "      <th></th>\n",
       "      <th>Predictors</th>\n",
       "      <th>Coefficients</th>\n",
       "    </tr>\n",
       "  </thead>\n",
       "  <tbody>\n",
       "    <tr>\n",
       "      <th>0</th>\n",
       "      <td>MARINE PARADE</td>\n",
       "      <td>99527.448075</td>\n",
       "    </tr>\n",
       "    <tr>\n",
       "      <th>1</th>\n",
       "      <td>BUKIT TIMAH</td>\n",
       "      <td>89014.734592</td>\n",
       "    </tr>\n",
       "    <tr>\n",
       "      <th>2</th>\n",
       "      <td>CENTRAL AREA</td>\n",
       "      <td>88075.457925</td>\n",
       "    </tr>\n",
       "    <tr>\n",
       "      <th>3</th>\n",
       "      <td>BUKIT MERAH</td>\n",
       "      <td>73670.458575</td>\n",
       "    </tr>\n",
       "    <tr>\n",
       "      <th>4</th>\n",
       "      <td>QUEENSTOWN</td>\n",
       "      <td>73024.766149</td>\n",
       "    </tr>\n",
       "    <tr>\n",
       "      <th>5</th>\n",
       "      <td>BISHAN</td>\n",
       "      <td>64881.542524</td>\n",
       "    </tr>\n",
       "    <tr>\n",
       "      <th>6</th>\n",
       "      <td>TOA PAYOH</td>\n",
       "      <td>47923.724999</td>\n",
       "    </tr>\n",
       "    <tr>\n",
       "      <th>7</th>\n",
       "      <td>KALLANG/WHAMPOA</td>\n",
       "      <td>44579.616379</td>\n",
       "    </tr>\n",
       "    <tr>\n",
       "      <th>8</th>\n",
       "      <td>flat_encoded</td>\n",
       "      <td>35121.976355</td>\n",
       "    </tr>\n",
       "    <tr>\n",
       "      <th>9</th>\n",
       "      <td>CLEMENTI</td>\n",
       "      <td>33272.864948</td>\n",
       "    </tr>\n",
       "    <tr>\n",
       "      <th>10</th>\n",
       "      <td>GEYLANG</td>\n",
       "      <td>26483.466977</td>\n",
       "    </tr>\n",
       "    <tr>\n",
       "      <th>11</th>\n",
       "      <td>ANG MO KIO</td>\n",
       "      <td>19266.814789</td>\n",
       "    </tr>\n",
       "    <tr>\n",
       "      <th>12</th>\n",
       "      <td>year</td>\n",
       "      <td>12997.925428</td>\n",
       "    </tr>\n",
       "    <tr>\n",
       "      <th>13</th>\n",
       "      <td>storey_encoded</td>\n",
       "      <td>9667.074945</td>\n",
       "    </tr>\n",
       "    <tr>\n",
       "      <th>14</th>\n",
       "      <td>BEDOK</td>\n",
       "      <td>8214.107752</td>\n",
       "    </tr>\n",
       "    <tr>\n",
       "      <th>15</th>\n",
       "      <td>floor_area_sqm</td>\n",
       "      <td>2192.721021</td>\n",
       "    </tr>\n",
       "    <tr>\n",
       "      <th>16</th>\n",
       "      <td>SERANGOON</td>\n",
       "      <td>914.768291</td>\n",
       "    </tr>\n",
       "    <tr>\n",
       "      <th>17</th>\n",
       "      <td>remaining_lease</td>\n",
       "      <td>-3016.643947</td>\n",
       "    </tr>\n",
       "    <tr>\n",
       "      <th>18</th>\n",
       "      <td>TAMPINES</td>\n",
       "      <td>-5049.832413</td>\n",
       "    </tr>\n",
       "    <tr>\n",
       "      <th>19</th>\n",
       "      <td>JURONG EAST</td>\n",
       "      <td>-24940.930356</td>\n",
       "    </tr>\n",
       "    <tr>\n",
       "      <th>20</th>\n",
       "      <td>HOUGANG</td>\n",
       "      <td>-25665.616619</td>\n",
       "    </tr>\n",
       "    <tr>\n",
       "      <th>21</th>\n",
       "      <td>PASIR RIS</td>\n",
       "      <td>-26829.998841</td>\n",
       "    </tr>\n",
       "    <tr>\n",
       "      <th>22</th>\n",
       "      <td>BUKIT BATOK</td>\n",
       "      <td>-27022.149117</td>\n",
       "    </tr>\n",
       "    <tr>\n",
       "      <th>23</th>\n",
       "      <td>YISHUN</td>\n",
       "      <td>-37038.068645</td>\n",
       "    </tr>\n",
       "    <tr>\n",
       "      <th>24</th>\n",
       "      <td>JURONG WEST</td>\n",
       "      <td>-56357.460991</td>\n",
       "    </tr>\n",
       "    <tr>\n",
       "      <th>25</th>\n",
       "      <td>PUNGGOL</td>\n",
       "      <td>-59106.815153</td>\n",
       "    </tr>\n",
       "    <tr>\n",
       "      <th>26</th>\n",
       "      <td>BUKIT PANJANG</td>\n",
       "      <td>-70010.018274</td>\n",
       "    </tr>\n",
       "    <tr>\n",
       "      <th>27</th>\n",
       "      <td>CHOA CHU KANG</td>\n",
       "      <td>-70358.164035</td>\n",
       "    </tr>\n",
       "    <tr>\n",
       "      <th>28</th>\n",
       "      <td>SENGKANG</td>\n",
       "      <td>-70469.902550</td>\n",
       "    </tr>\n",
       "    <tr>\n",
       "      <th>29</th>\n",
       "      <td>WOODLANDS</td>\n",
       "      <td>-87916.891966</td>\n",
       "    </tr>\n",
       "    <tr>\n",
       "      <th>30</th>\n",
       "      <td>SEMBAWANG</td>\n",
       "      <td>-108083.923016</td>\n",
       "    </tr>\n",
       "  </tbody>\n",
       "</table>\n",
       "</div>"
      ],
      "text/plain": [
       "         Predictors   Coefficients\n",
       "0     MARINE PARADE   99527.448075\n",
       "1       BUKIT TIMAH   89014.734592\n",
       "2      CENTRAL AREA   88075.457925\n",
       "3       BUKIT MERAH   73670.458575\n",
       "4        QUEENSTOWN   73024.766149\n",
       "5            BISHAN   64881.542524\n",
       "6         TOA PAYOH   47923.724999\n",
       "7   KALLANG/WHAMPOA   44579.616379\n",
       "8      flat_encoded   35121.976355\n",
       "9          CLEMENTI   33272.864948\n",
       "10          GEYLANG   26483.466977\n",
       "11       ANG MO KIO   19266.814789\n",
       "12             year   12997.925428\n",
       "13   storey_encoded    9667.074945\n",
       "14            BEDOK    8214.107752\n",
       "15   floor_area_sqm    2192.721021\n",
       "16        SERANGOON     914.768291\n",
       "17  remaining_lease   -3016.643947\n",
       "18         TAMPINES   -5049.832413\n",
       "19      JURONG EAST  -24940.930356\n",
       "20          HOUGANG  -25665.616619\n",
       "21        PASIR RIS  -26829.998841\n",
       "22      BUKIT BATOK  -27022.149117\n",
       "23           YISHUN  -37038.068645\n",
       "24      JURONG WEST  -56357.460991\n",
       "25          PUNGGOL  -59106.815153\n",
       "26    BUKIT PANJANG  -70010.018274\n",
       "27    CHOA CHU KANG  -70358.164035\n",
       "28         SENGKANG  -70469.902550\n",
       "29        WOODLANDS  -87916.891966\n",
       "30        SEMBAWANG -108083.923016"
      ]
     },
     "execution_count": 27,
     "metadata": {},
     "output_type": "execute_result"
    }
   ],
   "source": [
    "predictor_weights"
   ]
  },
  {
   "cell_type": "markdown",
   "metadata": {},
   "source": [
    "Looking at the predictor weights, we see that `town` is the most important factor for resale prices, with the model showing that resale units located in Marine Parade cost ~$100,000 more than those in other regions while flats in Sembawang are selling for ~$108,000 less on average, with all other factors held constant."
   ]
  },
  {
   "cell_type": "code",
   "execution_count": null,
   "metadata": {},
   "outputs": [
    {
     "data": {
      "image/png": "[encoded data removed]",
      "text/plain": [
       "<Figure size 640x480 with 1 Axes>"
      ]
     },
     "metadata": {},
     "output_type": "display_data"
    }
   ],
   "source": [
    "plt.bar(town_list,predictor_weights[predictor_weights['Predictors'].isin(town_list)]['Coefficients'])\n",
    "plt.xticks(rotation=90)\n",
    "plt.xlabel('Town')\n",
    "plt.ylabel('Coefficient')\n",
    "plt.show()"
   ]
  },
  {
   "cell_type": "markdown",
   "metadata": {},
   "source": [
    "We also see that the resale price increases by about $35,000 on average as we go up the list of flat types (1 room --> 2 room --> 3 room --> 4 room --> 5 room --> executive --> multi-generation)\n",
    "\n",
    "Year on year, the resale transaction prices are also increasing by about $13,000 on average.\n",
    "\n",
    "Similarly, resale flats become more expensive as they go from low floor to mid floor to high floor, by about $10,000 on average.\n",
    "\n",
    "Homebuyers are also paying ~$2,000 per additional sqm of a resale flat.\n",
    "\n",
    "Finally, older resale flats are generally cheaper by about $3,000 per year (i.e., with each less year remaining on the lease)."
   ]
  },
  {
   "cell_type": "code",
   "execution_count": 55,
   "metadata": {},
   "outputs": [
    {
     "data": {
      "text/html": [
       "<div>\n",
       "<style scoped>\n",
       "    .dataframe tbody tr th:only-of-type {\n",
       "        vertical-align: middle;\n",
       "    }\n",
       "\n",
       "    .dataframe tbody tr th {\n",
       "        vertical-align: top;\n",
       "    }\n",
       "\n",
       "    .dataframe thead th {\n",
       "        text-align: right;\n",
       "    }\n",
       "</style>\n",
       "<table border=\"1\" class=\"dataframe\">\n",
       "  <thead>\n",
       "    <tr style=\"text-align: right;\">\n",
       "      <th></th>\n",
       "      <th>Predictors</th>\n",
       "      <th>Coefficients</th>\n",
       "    </tr>\n",
       "  </thead>\n",
       "  <tbody>\n",
       "    <tr>\n",
       "      <th>8</th>\n",
       "      <td>flat_encoded</td>\n",
       "      <td>35121.976355</td>\n",
       "    </tr>\n",
       "    <tr>\n",
       "      <th>12</th>\n",
       "      <td>year</td>\n",
       "      <td>12997.925428</td>\n",
       "    </tr>\n",
       "    <tr>\n",
       "      <th>13</th>\n",
       "      <td>storey_encoded</td>\n",
       "      <td>9667.074945</td>\n",
       "    </tr>\n",
       "    <tr>\n",
       "      <th>15</th>\n",
       "      <td>floor_area_sqm</td>\n",
       "      <td>2192.721021</td>\n",
       "    </tr>\n",
       "    <tr>\n",
       "      <th>17</th>\n",
       "      <td>remaining_lease</td>\n",
       "      <td>-3016.643947</td>\n",
       "    </tr>\n",
       "  </tbody>\n",
       "</table>\n",
       "</div>"
      ],
      "text/plain": [
       "         Predictors  Coefficients\n",
       "8      flat_encoded  35121.976355\n",
       "12             year  12997.925428\n",
       "13   storey_encoded   9667.074945\n",
       "15   floor_area_sqm   2192.721021\n",
       "17  remaining_lease  -3016.643947"
      ]
     },
     "execution_count": 55,
     "metadata": {},
     "output_type": "execute_result"
    }
   ],
   "source": [
    "# to isolate only the predictors that are not towns\n",
    "predictor_weights[~predictor_weights['Predictors'].isin(town_list)]"
   ]
  },
  {
   "cell_type": "markdown",
   "metadata": {},
   "source": [
    "## 6. Additional modelling\n",
    "\n",
    "We also try modelling with some other regression methods to take a look at the performance."
   ]
  },
  {
   "cell_type": "code",
   "execution_count": null,
   "metadata": {},
   "outputs": [
    {
     "name": "stdout",
     "output_type": "stream",
     "text": [
      "KNN regression performance: r2 = 0.9527393258147803, MAE = 20713.824401595437, RMSE = 32329.245925095755\n"
     ]
    }
   ],
   "source": [
    "# fit KNN regression model on training data and predict resale price using test data, then score the result\n",
    "from sklearn.neighbors import KNeighborsRegressor\n",
    "knn_reg = KNeighborsRegressor().fit(X_train,y_train)\n",
    "y_pred_knn = knn_reg.predict(X_test)\n",
    "score_model('KNN regression',y_pred_knn)"
   ]
  },
  {
   "cell_type": "markdown",
   "metadata": {},
   "source": [
    "The performance for KNN regression is much better than for linear regression - however, we are not able to interpret feature importance and analyse the factors contributing to the resale price with this model. If our aim is just to have accurate price predictions, this may be a better choice."
   ]
  },
  {
   "cell_type": "code",
   "execution_count": 87,
   "metadata": {},
   "outputs": [
    {
     "name": "stdout",
     "output_type": "stream",
     "text": [
      "Decision tree regression performance: r2 = 0.9615835287239433, MAE = 19418.558152429927, RMSE = 29147.704217724095\n",
      "Decision tree depth is 51\n"
     ]
    }
   ],
   "source": [
    "# fit decision tree regression model on training data and predict resale price using test data, then score the result\n",
    "from sklearn.tree import DecisionTreeRegressor\n",
    "tree_reg = DecisionTreeRegressor(random_state=42).fit(X_train,y_train) # set random seed for reproducibility\n",
    "y_pred_tree = tree_reg.predict(X_test)\n",
    "score_model('Decision tree regression',y_pred_tree)\n",
    "print('Decision tree depth is '+str(tree_reg.get_depth()))"
   ]
  },
  {
   "cell_type": "markdown",
   "metadata": {},
   "source": [
    "Similarly, the performance for decision tree regression is much better than for linear regression. While we are able to interpret the factors contributing to the resale price with this model using the splits in the decision tree, we notice that the tree depth is 51 to achieve such performance. This may also be rather complex to interpret with many steps needed to reach the leaf nodes (final resale price). Again, if our aim is just to have accurate price predictions, this may be a better choice, and it also runs very quickly."
   ]
  },
  {
   "cell_type": "code",
   "execution_count": null,
   "metadata": {},
   "outputs": [],
   "source": [
    "# fit SVM regression model on training data and predict resale price using test data, then score the result\n",
    "from sklearn import svm\n",
    "svm_reg = svm.SVR().fit(X_train,y_train)\n",
    "y_pred_svm = svm_reg.predict(X_test)\n",
    "score_model('SVM regression',y_pred_svm)"
   ]
  },
  {
   "cell_type": "markdown",
   "metadata": {},
   "source": [
    "SVM regression was also attempted but it took too long to run - this seems to be the most computationally heavy algorithm tried here. Without access to GPU, this is likely not a suitable choice for our model."
   ]
  }
 ],
 "metadata": {
  "kernelspec": {
   "display_name": "base",
   "language": "python",
   "name": "python3"
  },
  "language_info": {
   "codemirror_mode": {
    "name": "ipython",
    "version": 3
   },
   "file_extension": ".py",
   "mimetype": "text/x-python",
   "name": "python",
   "nbconvert_exporter": "python",
   "pygments_lexer": "ipython3",
   "version": "3.9.13"
  }
 },
 "nbformat": 4,
 "nbformat_minor": 2
}
